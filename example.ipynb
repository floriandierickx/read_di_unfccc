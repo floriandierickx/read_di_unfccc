{
 "cells": [
  {
   "cell_type": "code",
   "execution_count": 1,
   "metadata": {
    "execution": {
     "iopub.execute_input": "2020-10-19T13:09:25.160150Z",
     "iopub.status.busy": "2020-10-19T13:09:25.159779Z",
     "iopub.status.idle": "2020-10-19T13:09:25.489121Z",
     "shell.execute_reply": "2020-10-19T13:09:25.488713Z",
     "shell.execute_reply.started": "2020-10-19T13:09:25.160113Z"
    }
   },
   "outputs": [],
   "source": [
    "from read_di_unfccc import UNFCCCApiReader"
   ]
  },
  {
   "cell_type": "markdown",
   "metadata": {
    "execution": {
     "iopub.execute_input": "2020-10-19T12:08:26.958349Z",
     "iopub.status.busy": "2020-10-19T12:08:26.958163Z",
     "iopub.status.idle": "2020-10-19T12:08:30.248087Z",
     "shell.execute_reply": "2020-10-19T12:08:30.247062Z",
     "shell.execute_reply.started": "2020-10-19T12:08:26.958332Z"
    }
   },
   "source": [
    "## Using the unified query interface"
   ]
  },
  {
   "cell_type": "code",
   "execution_count": 2,
   "metadata": {
    "execution": {
     "iopub.execute_input": "2020-10-19T13:09:25.490064Z",
     "iopub.status.busy": "2020-10-19T13:09:25.489906Z",
     "iopub.status.idle": "2020-10-19T13:09:28.903032Z",
     "shell.execute_reply": "2020-10-19T13:09:28.902279Z",
     "shell.execute_reply.started": "2020-10-19T13:09:25.490045Z"
    }
   },
   "outputs": [],
   "source": [
    "# instantiate API object, will query metadata\n",
    "r = UNFCCCApiReader()"
   ]
  },
  {
   "cell_type": "code",
   "execution_count": 3,
   "metadata": {
    "execution": {
     "iopub.execute_input": "2020-10-19T13:09:28.904711Z",
     "iopub.status.busy": "2020-10-19T13:09:28.904454Z",
     "iopub.status.idle": "2020-10-19T13:09:28.922861Z",
     "shell.execute_reply": "2020-10-19T13:09:28.921820Z",
     "shell.execute_reply.started": "2020-10-19T13:09:28.904686Z"
    }
   },
   "outputs": [
    {
     "data": {
      "text/html": [
       "<div>\n",
       "<style scoped>\n",
       "    .dataframe tbody tr th:only-of-type {\n",
       "        vertical-align: middle;\n",
       "    }\n",
       "\n",
       "    .dataframe tbody tr th {\n",
       "        vertical-align: top;\n",
       "    }\n",
       "\n",
       "    .dataframe thead th {\n",
       "        text-align: right;\n",
       "    }\n",
       "</style>\n",
       "<table border=\"1\" class=\"dataframe\">\n",
       "  <thead>\n",
       "    <tr style=\"text-align: right;\">\n",
       "      <th></th>\n",
       "      <th>code</th>\n",
       "      <th>name</th>\n",
       "      <th>noData</th>\n",
       "    </tr>\n",
       "    <tr>\n",
       "      <th>id</th>\n",
       "      <th></th>\n",
       "      <th></th>\n",
       "      <th></th>\n",
       "    </tr>\n",
       "  </thead>\n",
       "  <tbody>\n",
       "    <tr>\n",
       "      <th>3</th>\n",
       "      <td>AUS</td>\n",
       "      <td>Australia</td>\n",
       "      <td>NaN</td>\n",
       "    </tr>\n",
       "    <tr>\n",
       "      <th>4</th>\n",
       "      <td>AUT</td>\n",
       "      <td>Austria</td>\n",
       "      <td>NaN</td>\n",
       "    </tr>\n",
       "    <tr>\n",
       "      <th>5</th>\n",
       "      <td>BEL</td>\n",
       "      <td>Belgium</td>\n",
       "      <td>NaN</td>\n",
       "    </tr>\n",
       "    <tr>\n",
       "      <th>9</th>\n",
       "      <td>CAN</td>\n",
       "      <td>Canada</td>\n",
       "      <td>NaN</td>\n",
       "    </tr>\n",
       "    <tr>\n",
       "      <th>10</th>\n",
       "      <td>CHE</td>\n",
       "      <td>Switzerland</td>\n",
       "      <td>NaN</td>\n",
       "    </tr>\n",
       "    <tr>\n",
       "      <th>...</th>\n",
       "      <td>...</td>\n",
       "      <td>...</td>\n",
       "      <td>...</td>\n",
       "    </tr>\n",
       "    <tr>\n",
       "      <th>100214</th>\n",
       "      <td>VNM</td>\n",
       "      <td>Viet Nam</td>\n",
       "      <td>NaN</td>\n",
       "    </tr>\n",
       "    <tr>\n",
       "      <th>100215</th>\n",
       "      <td>YEM</td>\n",
       "      <td>Yemen</td>\n",
       "      <td>NaN</td>\n",
       "    </tr>\n",
       "    <tr>\n",
       "      <th>100216</th>\n",
       "      <td>ZMB</td>\n",
       "      <td>Zambia</td>\n",
       "      <td>NaN</td>\n",
       "    </tr>\n",
       "    <tr>\n",
       "      <th>100217</th>\n",
       "      <td>ZWE</td>\n",
       "      <td>Zimbabwe</td>\n",
       "      <td>NaN</td>\n",
       "    </tr>\n",
       "    <tr>\n",
       "      <th>100229</th>\n",
       "      <td>PSE</td>\n",
       "      <td>State of Palestine</td>\n",
       "      <td>NaN</td>\n",
       "    </tr>\n",
       "  </tbody>\n",
       "</table>\n",
       "<p>181 rows × 3 columns</p>\n",
       "</div>"
      ],
      "text/plain": [
       "       code                name noData\n",
       "id                                    \n",
       "3       AUS           Australia    NaN\n",
       "4       AUT             Austria    NaN\n",
       "5       BEL             Belgium    NaN\n",
       "9       CAN              Canada    NaN\n",
       "10      CHE         Switzerland    NaN\n",
       "...     ...                 ...    ...\n",
       "100214  VNM            Viet Nam    NaN\n",
       "100215  YEM               Yemen    NaN\n",
       "100216  ZMB              Zambia    NaN\n",
       "100217  ZWE            Zimbabwe    NaN\n",
       "100229  PSE  State of Palestine    NaN\n",
       "\n",
       "[181 rows x 3 columns]"
      ]
     },
     "execution_count": 3,
     "metadata": {},
     "output_type": "execute_result"
    }
   ],
   "source": [
    "# access metadata\n",
    "r.parties"
   ]
  },
  {
   "cell_type": "code",
   "execution_count": 4,
   "metadata": {
    "execution": {
     "iopub.execute_input": "2020-10-19T13:09:28.924101Z",
     "iopub.status.busy": "2020-10-19T13:09:28.923860Z",
     "iopub.status.idle": "2020-10-19T13:09:28.944813Z",
     "shell.execute_reply": "2020-10-19T13:09:28.944083Z",
     "shell.execute_reply.started": "2020-10-19T13:09:28.924078Z"
    }
   },
   "outputs": [
    {
     "data": {
      "text/html": [
       "<div>\n",
       "<style scoped>\n",
       "    .dataframe tbody tr th:only-of-type {\n",
       "        vertical-align: middle;\n",
       "    }\n",
       "\n",
       "    .dataframe tbody tr th {\n",
       "        vertical-align: top;\n",
       "    }\n",
       "\n",
       "    .dataframe thead th {\n",
       "        text-align: right;\n",
       "    }\n",
       "</style>\n",
       "<table border=\"1\" class=\"dataframe\">\n",
       "  <thead>\n",
       "    <tr style=\"text-align: right;\">\n",
       "      <th></th>\n",
       "      <th>name</th>\n",
       "    </tr>\n",
       "    <tr>\n",
       "      <th>id</th>\n",
       "      <th></th>\n",
       "    </tr>\n",
       "  </thead>\n",
       "  <tbody>\n",
       "    <tr>\n",
       "      <th>10466</th>\n",
       "      <td>Aggregate F-gases</td>\n",
       "    </tr>\n",
       "    <tr>\n",
       "      <th>10467</th>\n",
       "      <td>Aggregate GHGs</td>\n",
       "    </tr>\n",
       "    <tr>\n",
       "      <th>10468</th>\n",
       "      <td>CH₄</td>\n",
       "    </tr>\n",
       "    <tr>\n",
       "      <th>10469</th>\n",
       "      <td>CO₂</td>\n",
       "    </tr>\n",
       "    <tr>\n",
       "      <th>10470</th>\n",
       "      <td>HFCs</td>\n",
       "    </tr>\n",
       "    <tr>\n",
       "      <th>10471</th>\n",
       "      <td>N₂O</td>\n",
       "    </tr>\n",
       "    <tr>\n",
       "      <th>10472</th>\n",
       "      <td>NF₃</td>\n",
       "    </tr>\n",
       "    <tr>\n",
       "      <th>10473</th>\n",
       "      <td>PFCs</td>\n",
       "    </tr>\n",
       "    <tr>\n",
       "      <th>10474</th>\n",
       "      <td>SF₆</td>\n",
       "    </tr>\n",
       "    <tr>\n",
       "      <th>10475</th>\n",
       "      <td>Unspecified mix of HFCs and PFCs</td>\n",
       "    </tr>\n",
       "    <tr>\n",
       "      <th>10601</th>\n",
       "      <td>Unspecified mix of HFCs</td>\n",
       "    </tr>\n",
       "    <tr>\n",
       "      <th>10602</th>\n",
       "      <td>Unspecified mix of PFCs</td>\n",
       "    </tr>\n",
       "    <tr>\n",
       "      <th>10603</th>\n",
       "      <td>HFC-23</td>\n",
       "    </tr>\n",
       "    <tr>\n",
       "      <th>10604</th>\n",
       "      <td>HFC-32</td>\n",
       "    </tr>\n",
       "    <tr>\n",
       "      <th>10605</th>\n",
       "      <td>HFC-41</td>\n",
       "    </tr>\n",
       "    <tr>\n",
       "      <th>10606</th>\n",
       "      <td>HFC-43-10mee</td>\n",
       "    </tr>\n",
       "    <tr>\n",
       "      <th>10607</th>\n",
       "      <td>HFC-125</td>\n",
       "    </tr>\n",
       "    <tr>\n",
       "      <th>10608</th>\n",
       "      <td>HFC-134</td>\n",
       "    </tr>\n",
       "    <tr>\n",
       "      <th>10609</th>\n",
       "      <td>HFC-134a</td>\n",
       "    </tr>\n",
       "    <tr>\n",
       "      <th>10610</th>\n",
       "      <td>HFC-143</td>\n",
       "    </tr>\n",
       "    <tr>\n",
       "      <th>10611</th>\n",
       "      <td>HFC-143a</td>\n",
       "    </tr>\n",
       "    <tr>\n",
       "      <th>10612</th>\n",
       "      <td>HFC-152</td>\n",
       "    </tr>\n",
       "    <tr>\n",
       "      <th>10613</th>\n",
       "      <td>HFC-152a</td>\n",
       "    </tr>\n",
       "    <tr>\n",
       "      <th>10614</th>\n",
       "      <td>HFC-161</td>\n",
       "    </tr>\n",
       "    <tr>\n",
       "      <th>10615</th>\n",
       "      <td>HFC-227ea</td>\n",
       "    </tr>\n",
       "    <tr>\n",
       "      <th>10616</th>\n",
       "      <td>HFC-236cb</td>\n",
       "    </tr>\n",
       "    <tr>\n",
       "      <th>10617</th>\n",
       "      <td>HFC-236ea</td>\n",
       "    </tr>\n",
       "    <tr>\n",
       "      <th>10618</th>\n",
       "      <td>HFC-236fa</td>\n",
       "    </tr>\n",
       "    <tr>\n",
       "      <th>10619</th>\n",
       "      <td>HFC-245ca</td>\n",
       "    </tr>\n",
       "    <tr>\n",
       "      <th>10620</th>\n",
       "      <td>HFC-245fa</td>\n",
       "    </tr>\n",
       "    <tr>\n",
       "      <th>10621</th>\n",
       "      <td>HFC-365mfc</td>\n",
       "    </tr>\n",
       "    <tr>\n",
       "      <th>10622</th>\n",
       "      <td>CF₄</td>\n",
       "    </tr>\n",
       "    <tr>\n",
       "      <th>10623</th>\n",
       "      <td>C₂F₆</td>\n",
       "    </tr>\n",
       "    <tr>\n",
       "      <th>10624</th>\n",
       "      <td>c-C₃F₆</td>\n",
       "    </tr>\n",
       "    <tr>\n",
       "      <th>10625</th>\n",
       "      <td>C₃F₈</td>\n",
       "    </tr>\n",
       "    <tr>\n",
       "      <th>10626</th>\n",
       "      <td>c-C₄F₈</td>\n",
       "    </tr>\n",
       "    <tr>\n",
       "      <th>10627</th>\n",
       "      <td>C₄F₁₀</td>\n",
       "    </tr>\n",
       "    <tr>\n",
       "      <th>10628</th>\n",
       "      <td>C5F₁₂</td>\n",
       "    </tr>\n",
       "    <tr>\n",
       "      <th>10629</th>\n",
       "      <td>C₆F₁₄</td>\n",
       "    </tr>\n",
       "    <tr>\n",
       "      <th>10630</th>\n",
       "      <td>C₁₀F₁₈</td>\n",
       "    </tr>\n",
       "    <tr>\n",
       "      <th>10631</th>\n",
       "      <td>C</td>\n",
       "    </tr>\n",
       "    <tr>\n",
       "      <th>10632</th>\n",
       "      <td>CO</td>\n",
       "    </tr>\n",
       "    <tr>\n",
       "      <th>10633</th>\n",
       "      <td>NH₃</td>\n",
       "    </tr>\n",
       "    <tr>\n",
       "      <th>10634</th>\n",
       "      <td>NMVOC</td>\n",
       "    </tr>\n",
       "    <tr>\n",
       "      <th>10635</th>\n",
       "      <td>NOₓ</td>\n",
       "    </tr>\n",
       "    <tr>\n",
       "      <th>10636</th>\n",
       "      <td>SO₂</td>\n",
       "    </tr>\n",
       "    <tr>\n",
       "      <th>10637</th>\n",
       "      <td>No gas</td>\n",
       "    </tr>\n",
       "  </tbody>\n",
       "</table>\n",
       "</div>"
      ],
      "text/plain": [
       "                                   name\n",
       "id                                     \n",
       "10466                 Aggregate F-gases\n",
       "10467                    Aggregate GHGs\n",
       "10468                               CH₄\n",
       "10469                               CO₂\n",
       "10470                              HFCs\n",
       "10471                               N₂O\n",
       "10472                               NF₃\n",
       "10473                              PFCs\n",
       "10474                               SF₆\n",
       "10475  Unspecified mix of HFCs and PFCs\n",
       "10601           Unspecified mix of HFCs\n",
       "10602           Unspecified mix of PFCs\n",
       "10603                            HFC-23\n",
       "10604                            HFC-32\n",
       "10605                            HFC-41\n",
       "10606                      HFC-43-10mee\n",
       "10607                           HFC-125\n",
       "10608                           HFC-134\n",
       "10609                          HFC-134a\n",
       "10610                           HFC-143\n",
       "10611                          HFC-143a\n",
       "10612                           HFC-152\n",
       "10613                          HFC-152a\n",
       "10614                           HFC-161\n",
       "10615                         HFC-227ea\n",
       "10616                         HFC-236cb\n",
       "10617                         HFC-236ea\n",
       "10618                         HFC-236fa\n",
       "10619                         HFC-245ca\n",
       "10620                         HFC-245fa\n",
       "10621                        HFC-365mfc\n",
       "10622                               CF₄\n",
       "10623                              C₂F₆\n",
       "10624                            c-C₃F₆\n",
       "10625                              C₃F₈\n",
       "10626                            c-C₄F₈\n",
       "10627                             C₄F₁₀\n",
       "10628                             C5F₁₂\n",
       "10629                             C₆F₁₄\n",
       "10630                            C₁₀F₁₈\n",
       "10631                                 C\n",
       "10632                                CO\n",
       "10633                               NH₃\n",
       "10634                             NMVOC\n",
       "10635                               NOₓ\n",
       "10636                               SO₂\n",
       "10637                            No gas"
      ]
     },
     "execution_count": 4,
     "metadata": {},
     "output_type": "execute_result"
    }
   ],
   "source": [
    "r.gases"
   ]
  },
  {
   "cell_type": "code",
   "execution_count": 5,
   "metadata": {
    "execution": {
     "iopub.execute_input": "2020-10-19T13:09:28.946216Z",
     "iopub.status.busy": "2020-10-19T13:09:28.945965Z",
     "iopub.status.idle": "2020-10-19T13:09:28.988062Z",
     "shell.execute_reply": "2020-10-19T13:09:28.986839Z",
     "shell.execute_reply.started": "2020-10-19T13:09:28.946191Z"
    }
   },
   "outputs": [
    {
     "data": {
      "text/plain": [
       "\u001b[0;31mSignature:\u001b[0m \u001b[0mr\u001b[0m\u001b[0;34m.\u001b[0m\u001b[0mquery\u001b[0m\u001b[0;34m(\u001b[0m\u001b[0;34m*\u001b[0m\u001b[0;34m,\u001b[0m \u001b[0mparty_code\u001b[0m\u001b[0;34m,\u001b[0m \u001b[0mgases\u001b[0m\u001b[0;34m=\u001b[0m\u001b[0;32mNone\u001b[0m\u001b[0;34m)\u001b[0m\u001b[0;34m\u001b[0m\u001b[0;34m\u001b[0m\u001b[0m\n",
       "\u001b[0;31mDocstring:\u001b[0m\n",
       "Query the UNFCCC for data.\n",
       ":param party_code:       ISO codes of a party for which to query.\n",
       "                         For possible values, see .parties .\n",
       ":param gases:            list of gases to query for. For possible values, see .gases .\n",
       "                         Default: query for all gases.\n",
       "\n",
       "If you need more fine-grained control over which variables to query for, including restricting the query\n",
       "to specific measures, categories, or classifications or to query for multiple parties at once, please see the\n",
       "corresponding methods .annex_one_reader.query and .non_annex_one_reader.query .\n",
       "\u001b[0;31mFile:\u001b[0m      ~/work/read_di_unfccc/read_di_unfccc.py\n",
       "\u001b[0;31mType:\u001b[0m      method\n"
      ]
     },
     "metadata": {},
     "output_type": "display_data"
    }
   ],
   "source": [
    "# for obtaining information from the database, use r.query()\n",
    "r.query?"
   ]
  },
  {
   "cell_type": "code",
   "execution_count": 6,
   "metadata": {
    "execution": {
     "iopub.execute_input": "2020-10-19T13:09:28.990174Z",
     "iopub.status.busy": "2020-10-19T13:09:28.989691Z",
     "iopub.status.idle": "2020-10-19T13:09:29.176384Z",
     "shell.execute_reply": "2020-10-19T13:09:29.174334Z",
     "shell.execute_reply.started": "2020-10-19T13:09:28.990135Z"
    }
   },
   "outputs": [
    {
     "data": {
      "text/html": [
       "<div>\n",
       "<style scoped>\n",
       "    .dataframe tbody tr th:only-of-type {\n",
       "        vertical-align: middle;\n",
       "    }\n",
       "\n",
       "    .dataframe tbody tr th {\n",
       "        vertical-align: top;\n",
       "    }\n",
       "\n",
       "    .dataframe thead th {\n",
       "        text-align: right;\n",
       "    }\n",
       "</style>\n",
       "<table border=\"1\" class=\"dataframe\">\n",
       "  <thead>\n",
       "    <tr style=\"text-align: right;\">\n",
       "      <th></th>\n",
       "      <th>party</th>\n",
       "      <th>year</th>\n",
       "      <th>category</th>\n",
       "      <th>classification</th>\n",
       "      <th>measure</th>\n",
       "      <th>gas</th>\n",
       "      <th>unit</th>\n",
       "      <th>numberValue</th>\n",
       "      <th>stringValue</th>\n",
       "    </tr>\n",
       "  </thead>\n",
       "  <tbody>\n",
       "    <tr>\n",
       "      <th>0</th>\n",
       "      <td>AFG</td>\n",
       "      <td>2005</td>\n",
       "      <td>1.A  Fuel Combustion - Sectoral Approach</td>\n",
       "      <td>Total for category</td>\n",
       "      <td>Net emissions/removals</td>\n",
       "      <td>CO</td>\n",
       "      <td>Gg</td>\n",
       "      <td>865.200000</td>\n",
       "      <td>None</td>\n",
       "    </tr>\n",
       "    <tr>\n",
       "      <th>1</th>\n",
       "      <td>AFG</td>\n",
       "      <td>2005</td>\n",
       "      <td>1.A  Fuel Combustion - Sectoral Approach</td>\n",
       "      <td>Total for category</td>\n",
       "      <td>Net emissions/removals</td>\n",
       "      <td>NMVOC</td>\n",
       "      <td>Gg</td>\n",
       "      <td>91.200000</td>\n",
       "      <td>None</td>\n",
       "    </tr>\n",
       "    <tr>\n",
       "      <th>2</th>\n",
       "      <td>AFG</td>\n",
       "      <td>2005</td>\n",
       "      <td>1.A  Fuel Combustion - Sectoral Approach</td>\n",
       "      <td>Total for category</td>\n",
       "      <td>Net emissions/removals</td>\n",
       "      <td>NOₓ</td>\n",
       "      <td>Gg</td>\n",
       "      <td>53.910000</td>\n",
       "      <td>None</td>\n",
       "    </tr>\n",
       "    <tr>\n",
       "      <th>3</th>\n",
       "      <td>AFG</td>\n",
       "      <td>2005</td>\n",
       "      <td>1.A  Fuel Combustion - Sectoral Approach</td>\n",
       "      <td>Total for category</td>\n",
       "      <td>Net emissions/removals</td>\n",
       "      <td>SO₂</td>\n",
       "      <td>Gg</td>\n",
       "      <td>13.680000</td>\n",
       "      <td>None</td>\n",
       "    </tr>\n",
       "    <tr>\n",
       "      <th>4</th>\n",
       "      <td>AFG</td>\n",
       "      <td>2005</td>\n",
       "      <td>1.  Energy</td>\n",
       "      <td>Total for category</td>\n",
       "      <td>Net emissions/removals</td>\n",
       "      <td>CO</td>\n",
       "      <td>Gg</td>\n",
       "      <td>865.200000</td>\n",
       "      <td>None</td>\n",
       "    </tr>\n",
       "    <tr>\n",
       "      <th>...</th>\n",
       "      <td>...</td>\n",
       "      <td>...</td>\n",
       "      <td>...</td>\n",
       "      <td>...</td>\n",
       "      <td>...</td>\n",
       "      <td>...</td>\n",
       "      <td>...</td>\n",
       "      <td>...</td>\n",
       "      <td>...</td>\n",
       "    </tr>\n",
       "    <tr>\n",
       "      <th>373</th>\n",
       "      <td>AFG</td>\n",
       "      <td>2014</td>\n",
       "      <td>unknown category nr. 10503</td>\n",
       "      <td>Total for category</td>\n",
       "      <td>Market prices (constant 2010 USD)</td>\n",
       "      <td>No gas</td>\n",
       "      <td>billions USD</td>\n",
       "      <td>19.477071</td>\n",
       "      <td>None</td>\n",
       "    </tr>\n",
       "    <tr>\n",
       "      <th>374</th>\n",
       "      <td>AFG</td>\n",
       "      <td>2015</td>\n",
       "      <td>unknown category nr. 10503</td>\n",
       "      <td>Total for category</td>\n",
       "      <td>Market prices (constant 2010 USD)</td>\n",
       "      <td>No gas</td>\n",
       "      <td>billions USD</td>\n",
       "      <td>19.759744</td>\n",
       "      <td>None</td>\n",
       "    </tr>\n",
       "    <tr>\n",
       "      <th>375</th>\n",
       "      <td>AFG</td>\n",
       "      <td>2016</td>\n",
       "      <td>unknown category nr. 10503</td>\n",
       "      <td>Total for category</td>\n",
       "      <td>Market prices (constant 2010 USD)</td>\n",
       "      <td>No gas</td>\n",
       "      <td>billions USD</td>\n",
       "      <td>20.206376</td>\n",
       "      <td>None</td>\n",
       "    </tr>\n",
       "    <tr>\n",
       "      <th>376</th>\n",
       "      <td>AFG</td>\n",
       "      <td>2017</td>\n",
       "      <td>unknown category nr. 10503</td>\n",
       "      <td>Total for category</td>\n",
       "      <td>Market prices (constant 2010 USD)</td>\n",
       "      <td>No gas</td>\n",
       "      <td>billions USD</td>\n",
       "      <td>20.744935</td>\n",
       "      <td>None</td>\n",
       "    </tr>\n",
       "    <tr>\n",
       "      <th>377</th>\n",
       "      <td>AFG</td>\n",
       "      <td>2018</td>\n",
       "      <td>unknown category nr. 10503</td>\n",
       "      <td>Total for category</td>\n",
       "      <td>Market prices (constant 2010 USD)</td>\n",
       "      <td>No gas</td>\n",
       "      <td>billions USD</td>\n",
       "      <td>20.958745</td>\n",
       "      <td>None</td>\n",
       "    </tr>\n",
       "  </tbody>\n",
       "</table>\n",
       "<p>378 rows × 9 columns</p>\n",
       "</div>"
      ],
      "text/plain": [
       "    party  year                                  category      classification  \\\n",
       "0     AFG  2005  1.A  Fuel Combustion - Sectoral Approach  Total for category   \n",
       "1     AFG  2005  1.A  Fuel Combustion - Sectoral Approach  Total for category   \n",
       "2     AFG  2005  1.A  Fuel Combustion - Sectoral Approach  Total for category   \n",
       "3     AFG  2005  1.A  Fuel Combustion - Sectoral Approach  Total for category   \n",
       "4     AFG  2005                                1.  Energy  Total for category   \n",
       "..    ...   ...                                       ...                 ...   \n",
       "373   AFG  2014                unknown category nr. 10503  Total for category   \n",
       "374   AFG  2015                unknown category nr. 10503  Total for category   \n",
       "375   AFG  2016                unknown category nr. 10503  Total for category   \n",
       "376   AFG  2017                unknown category nr. 10503  Total for category   \n",
       "377   AFG  2018                unknown category nr. 10503  Total for category   \n",
       "\n",
       "                               measure     gas          unit  numberValue  \\\n",
       "0               Net emissions/removals      CO            Gg   865.200000   \n",
       "1               Net emissions/removals   NMVOC            Gg    91.200000   \n",
       "2               Net emissions/removals     NOₓ            Gg    53.910000   \n",
       "3               Net emissions/removals     SO₂            Gg    13.680000   \n",
       "4               Net emissions/removals      CO            Gg   865.200000   \n",
       "..                                 ...     ...           ...          ...   \n",
       "373  Market prices (constant 2010 USD)  No gas  billions USD    19.477071   \n",
       "374  Market prices (constant 2010 USD)  No gas  billions USD    19.759744   \n",
       "375  Market prices (constant 2010 USD)  No gas  billions USD    20.206376   \n",
       "376  Market prices (constant 2010 USD)  No gas  billions USD    20.744935   \n",
       "377  Market prices (constant 2010 USD)  No gas  billions USD    20.958745   \n",
       "\n",
       "    stringValue  \n",
       "0          None  \n",
       "1          None  \n",
       "2          None  \n",
       "3          None  \n",
       "4          None  \n",
       "..          ...  \n",
       "373        None  \n",
       "374        None  \n",
       "375        None  \n",
       "376        None  \n",
       "377        None  \n",
       "\n",
       "[378 rows x 9 columns]"
      ]
     },
     "execution_count": 6,
     "metadata": {},
     "output_type": "execute_result"
    }
   ],
   "source": [
    "# Note that only the \"party_code\" parameter is mandatory, gases can be left empty to query for all gases\n",
    "r.query(party_code='AFG')"
   ]
  },
  {
   "cell_type": "code",
   "execution_count": 7,
   "metadata": {
    "execution": {
     "iopub.execute_input": "2020-10-19T13:09:29.179804Z",
     "iopub.status.busy": "2020-10-19T13:09:29.179494Z",
     "iopub.status.idle": "2020-10-19T13:09:29.182587Z",
     "shell.execute_reply": "2020-10-19T13:09:29.181827Z",
     "shell.execute_reply.started": "2020-10-19T13:09:29.179777Z"
    }
   },
   "outputs": [],
   "source": [
    "# the result is returned in a pandas DataFrame. Note that sometimes, unknown categories are returned (ex. \"unkown category nr. 10503\") and\n",
    "# data points can have a numberValue and/or a stringValue such as \"NO\", \"NE\", or \"C\""
   ]
  },
  {
   "cell_type": "code",
   "execution_count": 8,
   "metadata": {
    "execution": {
     "iopub.execute_input": "2020-10-19T13:09:29.183825Z",
     "iopub.status.busy": "2020-10-19T13:09:29.183586Z",
     "iopub.status.idle": "2020-10-19T13:09:29.523635Z",
     "shell.execute_reply": "2020-10-19T13:09:29.522173Z",
     "shell.execute_reply.started": "2020-10-19T13:09:29.183800Z"
    }
   },
   "outputs": [
    {
     "name": "stderr",
     "output_type": "stream",
     "text": [
      "WARNING:root:Your query parameters lead to a lot of variables selected at once. If the query fails, try restricting your query more.\n"
     ]
    },
    {
     "ename": "HTTPError",
     "evalue": "500 Server Error: Internal Server Error for url: https://di.unfccc.int/api/records/flexible-queries",
     "output_type": "error",
     "traceback": [
      "\u001b[0;31m---------------------------------------------------------------------------\u001b[0m",
      "\u001b[0;31mHTTPError\u001b[0m                                 Traceback (most recent call last)",
      "\u001b[0;32m<ipython-input-8-017187a99dd2>\u001b[0m in \u001b[0;36m<module>\u001b[0;34m\u001b[0m\n\u001b[1;32m      1\u001b[0m \u001b[0;31m# However, querying Annex-I parties for all gases leads to overly large queries which don't necessarily work\u001b[0m\u001b[0;34m\u001b[0m\u001b[0;34m\u001b[0m\u001b[0;34m\u001b[0m\u001b[0m\n\u001b[0;32m----> 2\u001b[0;31m \u001b[0mr\u001b[0m\u001b[0;34m.\u001b[0m\u001b[0mquery\u001b[0m\u001b[0;34m(\u001b[0m\u001b[0mparty_code\u001b[0m\u001b[0;34m=\u001b[0m\u001b[0;34m'DEU'\u001b[0m\u001b[0;34m)\u001b[0m\u001b[0;34m\u001b[0m\u001b[0;34m\u001b[0m\u001b[0m\n\u001b[0m",
      "\u001b[0;32m~/work/read_di_unfccc/read_di_unfccc.py\u001b[0m in \u001b[0;36mquery\u001b[0;34m(self, party_code, gases)\u001b[0m\n\u001b[1;32m     47\u001b[0m             \u001b[0;32mraise\u001b[0m \u001b[0mKeyError\u001b[0m\u001b[0;34m(\u001b[0m\u001b[0mparty_code\u001b[0m\u001b[0;34m)\u001b[0m\u001b[0;34m\u001b[0m\u001b[0;34m\u001b[0m\u001b[0m\n\u001b[1;32m     48\u001b[0m \u001b[0;34m\u001b[0m\u001b[0m\n\u001b[0;32m---> 49\u001b[0;31m         \u001b[0;32mreturn\u001b[0m \u001b[0mreader\u001b[0m\u001b[0;34m.\u001b[0m\u001b[0mquery\u001b[0m\u001b[0;34m(\u001b[0m\u001b[0mparty_codes\u001b[0m\u001b[0;34m=\u001b[0m\u001b[0;34m[\u001b[0m\u001b[0mparty_code\u001b[0m\u001b[0;34m]\u001b[0m\u001b[0;34m,\u001b[0m \u001b[0mgases\u001b[0m\u001b[0;34m=\u001b[0m\u001b[0mgases\u001b[0m\u001b[0;34m)\u001b[0m\u001b[0;34m\u001b[0m\u001b[0;34m\u001b[0m\u001b[0m\n\u001b[0m\u001b[1;32m     50\u001b[0m \u001b[0;34m\u001b[0m\u001b[0m\n\u001b[1;32m     51\u001b[0m \u001b[0;34m\u001b[0m\u001b[0m\n",
      "\u001b[0;32m~/work/read_di_unfccc/read_di_unfccc.py\u001b[0m in \u001b[0;36mquery\u001b[0;34m(self, party_codes, category_ids, classifications, measure_ids, gases)\u001b[0m\n\u001b[1;32m    182\u001b[0m         \u001b[0myear_ids\u001b[0m \u001b[0;34m=\u001b[0m \u001b[0mlist\u001b[0m\u001b[0;34m(\u001b[0m\u001b[0mself\u001b[0m\u001b[0;34m.\u001b[0m\u001b[0myears\u001b[0m\u001b[0;34m.\u001b[0m\u001b[0mindex\u001b[0m\u001b[0;34m)\u001b[0m\u001b[0;34m\u001b[0m\u001b[0;34m\u001b[0m\u001b[0m\n\u001b[1;32m    183\u001b[0m \u001b[0;34m\u001b[0m\u001b[0m\n\u001b[0;32m--> 184\u001b[0;31m         raw = self._flexible_query(\n\u001b[0m\u001b[1;32m    185\u001b[0m             \u001b[0mvariable_ids\u001b[0m\u001b[0;34m=\u001b[0m\u001b[0mvariable_ids\u001b[0m\u001b[0;34m,\u001b[0m \u001b[0mparty_ids\u001b[0m\u001b[0;34m=\u001b[0m\u001b[0mparty_ids\u001b[0m\u001b[0;34m,\u001b[0m \u001b[0myear_ids\u001b[0m\u001b[0;34m=\u001b[0m\u001b[0myear_ids\u001b[0m\u001b[0;34m\u001b[0m\u001b[0;34m\u001b[0m\u001b[0m\n\u001b[1;32m    186\u001b[0m         )\n",
      "\u001b[0;32m~/work/read_di_unfccc/read_di_unfccc.py\u001b[0m in \u001b[0;36m_flexible_query\u001b[0;34m(self, variable_ids, party_ids, year_ids)\u001b[0m\n\u001b[1;32m    141\u001b[0m             )\n\u001b[1;32m    142\u001b[0m \u001b[0;34m\u001b[0m\u001b[0m\n\u001b[0;32m--> 143\u001b[0;31m         return self._post(\n\u001b[0m\u001b[1;32m    144\u001b[0m             \u001b[0;34m\"records/flexible-queries\"\u001b[0m\u001b[0;34m,\u001b[0m\u001b[0;34m\u001b[0m\u001b[0;34m\u001b[0m\u001b[0m\n\u001b[1;32m    145\u001b[0m             json={\n",
      "\u001b[0;32m~/work/read_di_unfccc/read_di_unfccc.py\u001b[0m in \u001b[0;36m_post\u001b[0;34m(self, component, json)\u001b[0m\n\u001b[1;32m    306\u001b[0m     \u001b[0;32mdef\u001b[0m \u001b[0m_post\u001b[0m\u001b[0;34m(\u001b[0m\u001b[0mself\u001b[0m\u001b[0;34m,\u001b[0m \u001b[0mcomponent\u001b[0m\u001b[0;34m:\u001b[0m \u001b[0mstr\u001b[0m\u001b[0;34m,\u001b[0m \u001b[0mjson\u001b[0m\u001b[0;34m:\u001b[0m \u001b[0mdict\u001b[0m\u001b[0;34m)\u001b[0m \u001b[0;34m->\u001b[0m \u001b[0mtyping\u001b[0m\u001b[0;34m.\u001b[0m\u001b[0mList\u001b[0m\u001b[0;34m[\u001b[0m\u001b[0mdict\u001b[0m\u001b[0;34m]\u001b[0m\u001b[0;34m:\u001b[0m\u001b[0;34m\u001b[0m\u001b[0;34m\u001b[0m\u001b[0m\n\u001b[1;32m    307\u001b[0m         \u001b[0mresp\u001b[0m \u001b[0;34m=\u001b[0m \u001b[0mrequests\u001b[0m\u001b[0;34m.\u001b[0m\u001b[0mpost\u001b[0m\u001b[0;34m(\u001b[0m\u001b[0mself\u001b[0m\u001b[0;34m.\u001b[0m\u001b[0mbase_url\u001b[0m \u001b[0;34m+\u001b[0m \u001b[0mcomponent\u001b[0m\u001b[0;34m,\u001b[0m \u001b[0mjson\u001b[0m\u001b[0;34m=\u001b[0m\u001b[0mjson\u001b[0m\u001b[0;34m)\u001b[0m\u001b[0;34m\u001b[0m\u001b[0;34m\u001b[0m\u001b[0m\n\u001b[0;32m--> 308\u001b[0;31m         \u001b[0mresp\u001b[0m\u001b[0;34m.\u001b[0m\u001b[0mraise_for_status\u001b[0m\u001b[0;34m(\u001b[0m\u001b[0;34m)\u001b[0m\u001b[0;34m\u001b[0m\u001b[0;34m\u001b[0m\u001b[0m\n\u001b[0m\u001b[1;32m    309\u001b[0m         \u001b[0;32mreturn\u001b[0m \u001b[0mresp\u001b[0m\u001b[0;34m.\u001b[0m\u001b[0mjson\u001b[0m\u001b[0;34m(\u001b[0m\u001b[0;34m)\u001b[0m\u001b[0;34m\u001b[0m\u001b[0;34m\u001b[0m\u001b[0m\n\u001b[1;32m    310\u001b[0m \u001b[0;34m\u001b[0m\u001b[0m\n",
      "\u001b[0;32m/usr/lib/python3/dist-packages/requests/models.py\u001b[0m in \u001b[0;36mraise_for_status\u001b[0;34m(self)\u001b[0m\n\u001b[1;32m    938\u001b[0m \u001b[0;34m\u001b[0m\u001b[0m\n\u001b[1;32m    939\u001b[0m         \u001b[0;32mif\u001b[0m \u001b[0mhttp_error_msg\u001b[0m\u001b[0;34m:\u001b[0m\u001b[0;34m\u001b[0m\u001b[0;34m\u001b[0m\u001b[0m\n\u001b[0;32m--> 940\u001b[0;31m             \u001b[0;32mraise\u001b[0m \u001b[0mHTTPError\u001b[0m\u001b[0;34m(\u001b[0m\u001b[0mhttp_error_msg\u001b[0m\u001b[0;34m,\u001b[0m \u001b[0mresponse\u001b[0m\u001b[0;34m=\u001b[0m\u001b[0mself\u001b[0m\u001b[0;34m)\u001b[0m\u001b[0;34m\u001b[0m\u001b[0;34m\u001b[0m\u001b[0m\n\u001b[0m\u001b[1;32m    941\u001b[0m \u001b[0;34m\u001b[0m\u001b[0m\n\u001b[1;32m    942\u001b[0m     \u001b[0;32mdef\u001b[0m \u001b[0mclose\u001b[0m\u001b[0;34m(\u001b[0m\u001b[0mself\u001b[0m\u001b[0;34m)\u001b[0m\u001b[0;34m:\u001b[0m\u001b[0;34m\u001b[0m\u001b[0;34m\u001b[0m\u001b[0m\n",
      "\u001b[0;31mHTTPError\u001b[0m: 500 Server Error: Internal Server Error for url: https://di.unfccc.int/api/records/flexible-queries"
     ]
    }
   ],
   "source": [
    "# However, querying Annex-I parties for all gases leads to overly large queries which don't necessarily work\n",
    "r.query(party_code='DEU')"
   ]
  },
  {
   "cell_type": "code",
   "execution_count": null,
   "metadata": {
    "execution": {
     "iopub.status.busy": "2020-10-19T13:09:29.524693Z",
     "iopub.status.idle": "2020-10-19T13:09:29.526446Z"
    }
   },
   "outputs": [],
   "source": [
    "# Then, it is beneficial to query for single gases only or use the more specialized query interface (see below)\n",
    "r.query(party_code='DEU', gases=['N₂O'])"
   ]
  },
  {
   "cell_type": "markdown",
   "metadata": {
    "execution": {
     "iopub.execute_input": "2020-10-19T11:44:16.200695Z",
     "iopub.status.busy": "2020-10-19T11:44:16.200515Z",
     "iopub.status.idle": "2020-10-19T11:44:18.105950Z",
     "shell.execute_reply": "2020-10-19T11:44:18.105407Z",
     "shell.execute_reply.started": "2020-10-19T11:44:16.200680Z"
    }
   },
   "source": [
    "## Using the specialized query interfaces for finer control"
   ]
  },
  {
   "cell_type": "code",
   "execution_count": null,
   "metadata": {
    "execution": {
     "iopub.status.busy": "2020-10-19T13:09:29.528560Z",
     "iopub.status.idle": "2020-10-19T13:09:29.529505Z"
    }
   },
   "outputs": [],
   "source": [
    "# API objects for annexOne and nonAnnexOne parties are available\n",
    "r.annex_one_reader\n",
    "r.non_annex_one_reader"
   ]
  },
  {
   "cell_type": "code",
   "execution_count": null,
   "metadata": {
    "execution": {
     "iopub.status.busy": "2020-10-19T13:09:29.530868Z",
     "iopub.status.idle": "2020-10-19T13:09:29.531530Z"
    }
   },
   "outputs": [],
   "source": [
    "# access metadata\n",
    "r.annex_one_reader.parties"
   ]
  },
  {
   "cell_type": "code",
   "execution_count": null,
   "metadata": {
    "execution": {
     "iopub.status.busy": "2020-10-19T13:09:29.532619Z",
     "iopub.status.idle": "2020-10-19T13:09:29.533232Z"
    }
   },
   "outputs": [],
   "source": [
    "# other available metadata\n",
    "#r.annex_one_reader.years\n",
    "#r.annex_one_reader.classifications\n",
    "#r.annex_one_reader.gases\n",
    "#r.annex_one_reader.units\n",
    "#r.annex_one_reader.conversion_factors"
   ]
  },
  {
   "cell_type": "code",
   "execution_count": null,
   "metadata": {
    "execution": {
     "iopub.status.busy": "2020-10-19T13:09:29.534165Z",
     "iopub.status.idle": "2020-10-19T13:09:29.534831Z"
    }
   },
   "outputs": [],
   "source": [
    "# categories and measures are available in hierarchies\n",
    "#r.annex_one_reader.category_tree\n",
    "#r.annex_one_reader.measure_tree\n",
    "\n",
    "# for easier viewing, use the associated methods; note the id in brackets that you need if you want to query for a specific category/measure\n",
    "#r.annex_one_reader.show_measure_hierarchy()\n",
    "r.annex_one_reader.show_category_hierarchy()"
   ]
  },
  {
   "cell_type": "code",
   "execution_count": null,
   "metadata": {
    "execution": {
     "iopub.status.busy": "2020-10-19T13:09:29.535906Z",
     "iopub.status.idle": "2020-10-19T13:09:29.536479Z"
    }
   },
   "outputs": [],
   "source": [
    "# for obtaining information from the database, use query()\n",
    "r.annex_one_reader.query?"
   ]
  },
  {
   "cell_type": "code",
   "execution_count": null,
   "metadata": {
    "execution": {
     "iopub.status.busy": "2020-10-19T13:09:29.537401Z",
     "iopub.status.idle": "2020-10-19T13:09:29.539136Z"
    }
   },
   "outputs": [],
   "source": [
    "# Fine-grained control is possible\n",
    "# Ex. query for german net emissions/removals of CO₂ in the category 5.A.1.a\n",
    "# You have to provide categories and measures using IDs, because names are not necessarily unique\n",
    "r.annex_one_reader.query(party_codes=['DEU'], category_ids=[9839], gases=['CO₂'], measure_ids=[10460])"
   ]
  },
  {
   "cell_type": "code",
   "execution_count": null,
   "metadata": {},
   "outputs": [],
   "source": []
  }
 ],
 "metadata": {
  "kernelspec": {
   "display_name": "Python 3",
   "language": "python",
   "name": "python3"
  },
  "language_info": {
   "codemirror_mode": {
    "name": "ipython",
    "version": 3
   },
   "file_extension": ".py",
   "mimetype": "text/x-python",
   "name": "python",
   "nbconvert_exporter": "python",
   "pygments_lexer": "ipython3",
   "version": "3.8.5"
  }
 },
 "nbformat": 4,
 "nbformat_minor": 4
}
